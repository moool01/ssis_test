{
 "cells": [
  {
   "cell_type": "markdown",
   "metadata": {},
   "source": [
    "**PDF 잘라와서 sample.pdf에 넣고 embedding model(KoSimCSE-roberta)통해**\n",
    "\n",
    "**vector화 한 후 retrieving 하는 것 까지 테스트 해 볼거임**"
   ]
  },
  {
   "cell_type": "code",
   "execution_count": 1,
   "metadata": {},
   "outputs": [],
   "source": [
    "from langchain.embeddings.sentence_transformer import SentenceTransformerEmbeddings\n",
    "from langchain.vectorstores import Chroma\n",
    "from langchain.docstore.document import Document\n"
   ]
  },
  {
   "cell_type": "code",
   "execution_count": 2,
   "metadata": {},
   "outputs": [
    {
     "name": "stdout",
     "output_type": "stream",
     "text": [
      "[Document(page_content='치타가 들판을 가로 질러 먹이를 쫓는다.'), Document(page_content='치타 한 마리가 먹이 뒤에서 달리고 있다.'), Document(page_content='원숭이 한 마리가 드럼을 연주한다.')]\n",
      "<class 'list'>\n"
     ]
    }
   ],
   "source": [
    "sentences = ['치타가 들판을 가로 질러 먹이를 쫓는다.',\n",
    "             '치타 한 마리가 먹이 뒤에서 달리고 있다.',\n",
    "             '원숭이 한 마리가 드럼을 연주한다.']\n",
    "\n",
    "documents = []\n",
    "\n",
    "for sentence in sentences :\n",
    "    documents.append(Document(page_content=sentence))\n",
    "\n",
    "#document type 저장한 list 생성.\n",
    "print(documents)\n",
    "print(type(documents))"
   ]
  },
  {
   "cell_type": "code",
   "execution_count": 3,
   "metadata": {},
   "outputs": [],
   "source": [
    "import torch\n",
    "\n",
    "def device_check() : \n",
    "    ''' for check cuda availability '''\n",
    "    device = (\n",
    "        \"cuda\"\n",
    "        if torch.cuda.is_available()\n",
    "        else \"mps\"\n",
    "        if torch.backends.mps.is_available()\n",
    "        else \"cpu\"\n",
    "    )\n",
    "    return device"
   ]
  },
  {
   "cell_type": "code",
   "execution_count": 4,
   "metadata": {},
   "outputs": [
    {
     "name": "stderr",
     "output_type": "stream",
     "text": [
      "/Users/choejaehun/anaconda3/envs/ssis/lib/python3.10/site-packages/tqdm/auto.py:21: TqdmWarning: IProgress not found. Please update jupyter and ipywidgets. See https://ipywidgets.readthedocs.io/en/stable/user_install.html\n",
      "  from .autonotebook import tqdm as notebook_tqdm\n",
      "Downloading (…)85bb4/.gitattributes: 100%|██████████| 1.27k/1.27k [00:00<00:00, 2.79MB/s]\n",
      "Downloading (…)246ea85bb4/README.md: 100%|██████████| 2.68k/2.68k [00:00<00:00, 6.59MB/s]\n",
      "Downloading (…)6ea85bb4/config.json: 100%|██████████| 744/744 [00:00<00:00, 1.31MB/s]\n",
      "Downloading model.safetensors: 100%|██████████| 442M/442M [00:08<00:00, 53.2MB/s] \n",
      "Downloading pytorch_model.bin: 100%|██████████| 443M/443M [00:22<00:00, 19.4MB/s] \n",
      "Downloading (…)cial_tokens_map.json: 100%|██████████| 156/156 [00:00<00:00, 389kB/s]\n",
      "Downloading (…)85bb4/tokenizer.json: 100%|██████████| 495k/495k [00:00<00:00, 2.55MB/s]\n",
      "Downloading (…)okenizer_config.json: 100%|██████████| 579/579 [00:00<00:00, 724kB/s]\n",
      "Downloading (…)246ea85bb4/vocab.txt: 100%|██████████| 248k/248k [00:00<00:00, 659kB/s]\n",
      "No sentence-transformers model found with name /Users/choejaehun/.cache/torch/sentence_transformers/BM-K_KoSimCSE-roberta. Creating a new one with MEAN pooling.\n"
     ]
    }
   ],
   "source": [
    "embedding = SentenceTransformerEmbeddings(model_name='BM-K/KoSimCSE-roberta', model_kwargs={'device':device_check()}, encode_kwargs={'normalize_embeddings':True})"
   ]
  },
  {
   "cell_type": "code",
   "execution_count": 5,
   "metadata": {},
   "outputs": [
    {
     "data": {
      "text/plain": [
       "HuggingFaceEmbeddings(client=SentenceTransformer(\n",
       "  (0): Transformer({'max_seq_length': 512, 'do_lower_case': False}) with Transformer model: RobertaModel \n",
       "  (1): Pooling({'word_embedding_dimension': 768, 'pooling_mode_cls_token': False, 'pooling_mode_mean_tokens': True, 'pooling_mode_max_tokens': False, 'pooling_mode_mean_sqrt_len_tokens': False})\n",
       "), model_name='BM-K/KoSimCSE-roberta', cache_folder=None, model_kwargs={'device': 'mps'}, encode_kwargs={'normalize_embeddings': True}, multi_process=False)"
      ]
     },
     "execution_count": 5,
     "metadata": {},
     "output_type": "execute_result"
    }
   ],
   "source": [
    "embedding #embedding 생성 완료."
   ]
  },
  {
   "cell_type": "code",
   "execution_count": 6,
   "metadata": {},
   "outputs": [],
   "source": [
    "vectordb = Chroma.from_documents(documents=documents, embedding=embedding)\n",
    "chroma_retriever = vectordb.as_retriever(search_type='mmr', search_kwargs={\"k\": 2}) #retriever 생성"
   ]
  },
  {
   "cell_type": "code",
   "execution_count": 7,
   "metadata": {},
   "outputs": [
    {
     "name": "stderr",
     "output_type": "stream",
     "text": [
      "Number of requested results 20 is greater than number of elements in index 3, updating n_results = 3\n"
     ]
    },
    {
     "data": {
      "text/plain": [
       "[Document(page_content='치타 한 마리가 먹이 뒤에서 달리고 있다.'),\n",
       " Document(page_content='원숭이 한 마리가 드럼을 연주한다.')]"
      ]
     },
     "execution_count": 7,
     "metadata": {},
     "output_type": "execute_result"
    }
   ],
   "source": [
    "chroma_retriever.invoke(\"치타는 드럼을 치는가?\")"
   ]
  },
  {
   "cell_type": "markdown",
   "metadata": {},
   "source": [
    "***결론***\n",
    "\n",
    "Embedding Function만 쓰면 잘 가져온다. 근데 relevance 기반이라 키워드 이런거는 어떻게 해야 할지 고민해야 할듯.\n",
    "\n",
    "키워드 search 같은 걸 해야하나?"
   ]
  },
  {
   "cell_type": "code",
   "execution_count": null,
   "metadata": {},
   "outputs": [],
   "source": []
  }
 ],
 "metadata": {
  "kernelspec": {
   "display_name": "LLM-Project",
   "language": "python",
   "name": "python3"
  },
  "language_info": {
   "codemirror_mode": {
    "name": "ipython",
    "version": 3
   },
   "file_extension": ".py",
   "mimetype": "text/x-python",
   "name": "python",
   "nbconvert_exporter": "python",
   "pygments_lexer": "ipython3",
   "version": "3.10.12"
  }
 },
 "nbformat": 4,
 "nbformat_minor": 2
}
